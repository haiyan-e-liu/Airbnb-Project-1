{
 "cells": [
  {
   "cell_type": "code",
   "execution_count": 1,
   "metadata": {},
   "outputs": [],
   "source": [
    "import os\n",
    "import numpy as np\n",
    "import pandas as pd\n",
    "import matplotlib.pyplot as plt\n",
    "import seaborn as sns\n",
    "\n",
    "from ipywidgets import interact, widgets # to create interactive plots\n",
    "\n",
    "from datetime import datetime as dt\n",
    "from datetime import timedelta\n",
    "import holidays\n",
    "\n",
    "%matplotlib inline"
   ]
  },
  {
   "cell_type": "code",
   "execution_count": 2,
   "metadata": {},
   "outputs": [
    {
     "data": {
      "text/plain": [
       "'C:\\\\Users\\\\Haiyan\\\\Google Drive\\\\DataScience\\\\Python\\\\Data_Scientist_Nanodegree\\\\1_Project1_Airbnb'"
      ]
     },
     "execution_count": 2,
     "metadata": {},
     "output_type": "execute_result"
    }
   ],
   "source": [
    "# check current directory\n",
    "%pwd "
   ]
  },
  {
   "cell_type": "code",
   "execution_count": 3,
   "metadata": {},
   "outputs": [
    {
     "name": "stdout",
     "output_type": "stream",
     "text": [
      "C:\\Users\\Haiyan\\Google Drive\\DataScience\\Python\\Data_Scientist_Nanodegree\\1_Project1_Airbnb\n"
     ]
    }
   ],
   "source": [
    "# set working directory\n",
    "%cd \"C:\\Users\\Haiyan\\Google Drive\\DataScience\\Python\\Data_Scientist_Nanodegree\\1_Project1_Airbnb\""
   ]
  },
  {
   "cell_type": "code",
   "execution_count": 4,
   "metadata": {},
   "outputs": [],
   "source": [
    "# read datasets\n",
    "listings = pd.read_csv('seattle\\listings.csv')"
   ]
  },
  {
   "cell_type": "code",
   "execution_count": 5,
   "metadata": {},
   "outputs": [
    {
     "data": {
      "text/html": [
       "<div>\n",
       "<style scoped>\n",
       "    .dataframe tbody tr th:only-of-type {\n",
       "        vertical-align: middle;\n",
       "    }\n",
       "\n",
       "    .dataframe tbody tr th {\n",
       "        vertical-align: top;\n",
       "    }\n",
       "\n",
       "    .dataframe thead th {\n",
       "        text-align: right;\n",
       "    }\n",
       "</style>\n",
       "<table border=\"1\" class=\"dataframe\">\n",
       "  <thead>\n",
       "    <tr style=\"text-align: right;\">\n",
       "      <th></th>\n",
       "      <th>id</th>\n",
       "      <th>listing_url</th>\n",
       "      <th>scrape_id</th>\n",
       "      <th>last_scraped</th>\n",
       "      <th>name</th>\n",
       "      <th>summary</th>\n",
       "      <th>space</th>\n",
       "      <th>description</th>\n",
       "      <th>experiences_offered</th>\n",
       "      <th>neighborhood_overview</th>\n",
       "      <th>...</th>\n",
       "      <th>review_scores_value</th>\n",
       "      <th>requires_license</th>\n",
       "      <th>license</th>\n",
       "      <th>jurisdiction_names</th>\n",
       "      <th>instant_bookable</th>\n",
       "      <th>cancellation_policy</th>\n",
       "      <th>require_guest_profile_picture</th>\n",
       "      <th>require_guest_phone_verification</th>\n",
       "      <th>calculated_host_listings_count</th>\n",
       "      <th>reviews_per_month</th>\n",
       "    </tr>\n",
       "  </thead>\n",
       "  <tbody>\n",
       "    <tr>\n",
       "      <th>0</th>\n",
       "      <td>241032</td>\n",
       "      <td>https://www.airbnb.com/rooms/241032</td>\n",
       "      <td>20160104002432</td>\n",
       "      <td>2016-01-04</td>\n",
       "      <td>Stylish Queen Anne Apartment</td>\n",
       "      <td>NaN</td>\n",
       "      <td>Make your self at home in this charming one-be...</td>\n",
       "      <td>Make your self at home in this charming one-be...</td>\n",
       "      <td>none</td>\n",
       "      <td>NaN</td>\n",
       "      <td>...</td>\n",
       "      <td>10.0</td>\n",
       "      <td>f</td>\n",
       "      <td>NaN</td>\n",
       "      <td>WASHINGTON</td>\n",
       "      <td>f</td>\n",
       "      <td>moderate</td>\n",
       "      <td>f</td>\n",
       "      <td>f</td>\n",
       "      <td>2</td>\n",
       "      <td>4.07</td>\n",
       "    </tr>\n",
       "    <tr>\n",
       "      <th>1</th>\n",
       "      <td>953595</td>\n",
       "      <td>https://www.airbnb.com/rooms/953595</td>\n",
       "      <td>20160104002432</td>\n",
       "      <td>2016-01-04</td>\n",
       "      <td>Bright &amp; Airy Queen Anne Apartment</td>\n",
       "      <td>Chemically sensitive? We've removed the irrita...</td>\n",
       "      <td>Beautiful, hypoallergenic apartment in an extr...</td>\n",
       "      <td>Chemically sensitive? We've removed the irrita...</td>\n",
       "      <td>none</td>\n",
       "      <td>Queen Anne is a wonderful, truly functional vi...</td>\n",
       "      <td>...</td>\n",
       "      <td>10.0</td>\n",
       "      <td>f</td>\n",
       "      <td>NaN</td>\n",
       "      <td>WASHINGTON</td>\n",
       "      <td>f</td>\n",
       "      <td>strict</td>\n",
       "      <td>t</td>\n",
       "      <td>t</td>\n",
       "      <td>6</td>\n",
       "      <td>1.48</td>\n",
       "    </tr>\n",
       "    <tr>\n",
       "      <th>2</th>\n",
       "      <td>3308979</td>\n",
       "      <td>https://www.airbnb.com/rooms/3308979</td>\n",
       "      <td>20160104002432</td>\n",
       "      <td>2016-01-04</td>\n",
       "      <td>New Modern House-Amazing water view</td>\n",
       "      <td>New modern house built in 2013.  Spectacular s...</td>\n",
       "      <td>Our house is modern, light and fresh with a wa...</td>\n",
       "      <td>New modern house built in 2013.  Spectacular s...</td>\n",
       "      <td>none</td>\n",
       "      <td>Upper Queen Anne is a charming neighborhood fu...</td>\n",
       "      <td>...</td>\n",
       "      <td>10.0</td>\n",
       "      <td>f</td>\n",
       "      <td>NaN</td>\n",
       "      <td>WASHINGTON</td>\n",
       "      <td>f</td>\n",
       "      <td>strict</td>\n",
       "      <td>f</td>\n",
       "      <td>f</td>\n",
       "      <td>2</td>\n",
       "      <td>1.15</td>\n",
       "    </tr>\n",
       "    <tr>\n",
       "      <th>3</th>\n",
       "      <td>7421966</td>\n",
       "      <td>https://www.airbnb.com/rooms/7421966</td>\n",
       "      <td>20160104002432</td>\n",
       "      <td>2016-01-04</td>\n",
       "      <td>Queen Anne Chateau</td>\n",
       "      <td>A charming apartment that sits atop Queen Anne...</td>\n",
       "      <td>NaN</td>\n",
       "      <td>A charming apartment that sits atop Queen Anne...</td>\n",
       "      <td>none</td>\n",
       "      <td>NaN</td>\n",
       "      <td>...</td>\n",
       "      <td>NaN</td>\n",
       "      <td>f</td>\n",
       "      <td>NaN</td>\n",
       "      <td>WASHINGTON</td>\n",
       "      <td>f</td>\n",
       "      <td>flexible</td>\n",
       "      <td>f</td>\n",
       "      <td>f</td>\n",
       "      <td>1</td>\n",
       "      <td>NaN</td>\n",
       "    </tr>\n",
       "    <tr>\n",
       "      <th>4</th>\n",
       "      <td>278830</td>\n",
       "      <td>https://www.airbnb.com/rooms/278830</td>\n",
       "      <td>20160104002432</td>\n",
       "      <td>2016-01-04</td>\n",
       "      <td>Charming craftsman 3 bdm house</td>\n",
       "      <td>Cozy family craftman house in beautiful neighb...</td>\n",
       "      <td>Cozy family craftman house in beautiful neighb...</td>\n",
       "      <td>Cozy family craftman house in beautiful neighb...</td>\n",
       "      <td>none</td>\n",
       "      <td>We are in the beautiful neighborhood of Queen ...</td>\n",
       "      <td>...</td>\n",
       "      <td>9.0</td>\n",
       "      <td>f</td>\n",
       "      <td>NaN</td>\n",
       "      <td>WASHINGTON</td>\n",
       "      <td>f</td>\n",
       "      <td>strict</td>\n",
       "      <td>f</td>\n",
       "      <td>f</td>\n",
       "      <td>1</td>\n",
       "      <td>0.89</td>\n",
       "    </tr>\n",
       "  </tbody>\n",
       "</table>\n",
       "<p>5 rows × 92 columns</p>\n",
       "</div>"
      ],
      "text/plain": [
       "        id                           listing_url       scrape_id last_scraped  \\\n",
       "0   241032   https://www.airbnb.com/rooms/241032  20160104002432   2016-01-04   \n",
       "1   953595   https://www.airbnb.com/rooms/953595  20160104002432   2016-01-04   \n",
       "2  3308979  https://www.airbnb.com/rooms/3308979  20160104002432   2016-01-04   \n",
       "3  7421966  https://www.airbnb.com/rooms/7421966  20160104002432   2016-01-04   \n",
       "4   278830   https://www.airbnb.com/rooms/278830  20160104002432   2016-01-04   \n",
       "\n",
       "                                  name  \\\n",
       "0         Stylish Queen Anne Apartment   \n",
       "1   Bright & Airy Queen Anne Apartment   \n",
       "2  New Modern House-Amazing water view   \n",
       "3                   Queen Anne Chateau   \n",
       "4       Charming craftsman 3 bdm house   \n",
       "\n",
       "                                             summary  \\\n",
       "0                                                NaN   \n",
       "1  Chemically sensitive? We've removed the irrita...   \n",
       "2  New modern house built in 2013.  Spectacular s...   \n",
       "3  A charming apartment that sits atop Queen Anne...   \n",
       "4  Cozy family craftman house in beautiful neighb...   \n",
       "\n",
       "                                               space  \\\n",
       "0  Make your self at home in this charming one-be...   \n",
       "1  Beautiful, hypoallergenic apartment in an extr...   \n",
       "2  Our house is modern, light and fresh with a wa...   \n",
       "3                                                NaN   \n",
       "4  Cozy family craftman house in beautiful neighb...   \n",
       "\n",
       "                                         description experiences_offered  \\\n",
       "0  Make your self at home in this charming one-be...                none   \n",
       "1  Chemically sensitive? We've removed the irrita...                none   \n",
       "2  New modern house built in 2013.  Spectacular s...                none   \n",
       "3  A charming apartment that sits atop Queen Anne...                none   \n",
       "4  Cozy family craftman house in beautiful neighb...                none   \n",
       "\n",
       "                               neighborhood_overview  ... review_scores_value  \\\n",
       "0                                                NaN  ...                10.0   \n",
       "1  Queen Anne is a wonderful, truly functional vi...  ...                10.0   \n",
       "2  Upper Queen Anne is a charming neighborhood fu...  ...                10.0   \n",
       "3                                                NaN  ...                 NaN   \n",
       "4  We are in the beautiful neighborhood of Queen ...  ...                 9.0   \n",
       "\n",
       "  requires_license license jurisdiction_names instant_bookable  \\\n",
       "0                f     NaN         WASHINGTON                f   \n",
       "1                f     NaN         WASHINGTON                f   \n",
       "2                f     NaN         WASHINGTON                f   \n",
       "3                f     NaN         WASHINGTON                f   \n",
       "4                f     NaN         WASHINGTON                f   \n",
       "\n",
       "  cancellation_policy  require_guest_profile_picture  \\\n",
       "0            moderate                              f   \n",
       "1              strict                              t   \n",
       "2              strict                              f   \n",
       "3            flexible                              f   \n",
       "4              strict                              f   \n",
       "\n",
       "  require_guest_phone_verification calculated_host_listings_count  \\\n",
       "0                                f                              2   \n",
       "1                                t                              6   \n",
       "2                                f                              2   \n",
       "3                                f                              1   \n",
       "4                                f                              1   \n",
       "\n",
       "  reviews_per_month  \n",
       "0              4.07  \n",
       "1              1.48  \n",
       "2              1.15  \n",
       "3               NaN  \n",
       "4              0.89  \n",
       "\n",
       "[5 rows x 92 columns]"
      ]
     },
     "execution_count": 5,
     "metadata": {},
     "output_type": "execute_result"
    }
   ],
   "source": [
    "listings.head()"
   ]
  },
  {
   "cell_type": "code",
   "execution_count": 6,
   "metadata": {
    "scrolled": false
   },
   "outputs": [
    {
     "data": {
      "text/plain": [
       "(3818, 92)"
      ]
     },
     "execution_count": 6,
     "metadata": {},
     "output_type": "execute_result"
    }
   ],
   "source": [
    "listings.shape"
   ]
  },
  {
   "cell_type": "code",
   "execution_count": 7,
   "metadata": {
    "scrolled": true
   },
   "outputs": [
    {
     "data": {
      "image/png": "[encoded data removed]",
      "text/plain": [
       "<Figure size 720x360 with 4 Axes>"
      ]
     },
     "metadata": {
      "needs_background": "light"
     },
     "output_type": "display_data"
    }
   ],
   "source": [
    "fig = plt.figure(figsize = (10, 5))\n",
    "\n",
    "plt.subplot(2, 2, 1)\n",
    "listings['number_of_reviews'].plot(kind = 'box');\n",
    "\n",
    "plt.subplot(2, 2, 3)\n",
    "listings['reviews_per_month'].plot(kind = 'box');\n",
    "\n",
    "plt.subplot(2, 2, 2)\n",
    "listings['review_scores_rating'].plot(kind = 'box'); \n",
    "\n",
    "plt.subplot(2, 2, 4)\n",
    "listings['review_scores_value'].plot(kind = 'box');"
   ]
  },
  {
   "cell_type": "code",
   "execution_count": 8,
   "metadata": {},
   "outputs": [
    {
     "data": {
      "text/plain": [
       "Other neighborhoods    794\n",
       "Capitol Hill           567\n",
       "Downtown               530\n",
       "Central Area           369\n",
       "Queen Anne             295\n",
       "Ballard                230\n",
       "West Seattle           203\n",
       "Rainier Valley         159\n",
       "University District    122\n",
       "Beacon Hill            118\n",
       "Cascade                 89\n",
       "Northgate               80\n",
       "Delridge                79\n",
       "Lake City               67\n",
       "Magnolia                61\n",
       "Seward Park             44\n",
       "Interbay                11\n",
       "Name: neighbourhood_group_cleansed, dtype: int64"
      ]
     },
     "execution_count": 8,
     "metadata": {},
     "output_type": "execute_result"
    }
   ],
   "source": [
    "listings['neighbourhood_group_cleansed'].value_counts()"
   ]
  },
  {
   "cell_type": "code",
   "execution_count": 9,
   "metadata": {
    "scrolled": false
   },
   "outputs": [
    {
     "data": {
      "image/png": "[encoded data removed]",
      "text/plain": [
       "<Figure size 1080x360 with 1 Axes>"
      ]
     },
     "metadata": {
      "needs_background": "light"
     },
     "output_type": "display_data"
    }
   ],
   "source": [
    "fig, ax = plt.subplots(figsize = (15, 5))\n",
    "ax = sns.boxplot(x = 'neighbourhood_group_cleansed', y = 'reviews_per_month', \n",
    "                data = listings);\n",
    "plt.setp(ax.get_xticklabels(), rotation=45);\n",
    "plt.xlabel('Neighbourhood');"
   ]
  },
  {
   "cell_type": "code",
   "execution_count": 10,
   "metadata": {},
   "outputs": [
    {
     "data": {
      "image/png": "[encoded data removed]",
      "text/plain": [
       "<Figure size 1080x360 with 1 Axes>"
      ]
     },
     "metadata": {
      "needs_background": "light"
     },
     "output_type": "display_data"
    }
   ],
   "source": [
    "fig, ax = plt.subplots(figsize = (15, 5))\n",
    "ax = sns.boxplot(x = 'neighbourhood_group_cleansed', y = 'review_scores_rating', \n",
    "                data = listings);\n",
    "plt.setp(ax.get_xticklabels(), rotation=45);\n",
    "plt.xlabel('Neighbourhood');"
   ]
  },
  {
   "cell_type": "code",
   "execution_count": null,
   "metadata": {},
   "outputs": [],
   "source": []
  },
  {
   "cell_type": "code",
   "execution_count": 11,
   "metadata": {},
   "outputs": [],
   "source": [
    "# Read calendar price data\n",
    "price = pd.read_csv('seattle\\calendar.csv')"
   ]
  },
  {
   "cell_type": "code",
   "execution_count": 12,
   "metadata": {
    "scrolled": false
   },
   "outputs": [
    {
     "data": {
      "text/html": [
       "<div>\n",
       "<style scoped>\n",
       "    .dataframe tbody tr th:only-of-type {\n",
       "        vertical-align: middle;\n",
       "    }\n",
       "\n",
       "    .dataframe tbody tr th {\n",
       "        vertical-align: top;\n",
       "    }\n",
       "\n",
       "    .dataframe thead th {\n",
       "        text-align: right;\n",
       "    }\n",
       "</style>\n",
       "<table border=\"1\" class=\"dataframe\">\n",
       "  <thead>\n",
       "    <tr style=\"text-align: right;\">\n",
       "      <th></th>\n",
       "      <th>listing_id</th>\n",
       "      <th>date</th>\n",
       "      <th>available</th>\n",
       "      <th>price</th>\n",
       "    </tr>\n",
       "  </thead>\n",
       "  <tbody>\n",
       "    <tr>\n",
       "      <th>0</th>\n",
       "      <td>241032</td>\n",
       "      <td>2016-01-04</td>\n",
       "      <td>t</td>\n",
       "      <td>$85.00</td>\n",
       "    </tr>\n",
       "    <tr>\n",
       "      <th>1</th>\n",
       "      <td>241032</td>\n",
       "      <td>2016-01-05</td>\n",
       "      <td>t</td>\n",
       "      <td>$85.00</td>\n",
       "    </tr>\n",
       "    <tr>\n",
       "      <th>2</th>\n",
       "      <td>241032</td>\n",
       "      <td>2016-01-06</td>\n",
       "      <td>f</td>\n",
       "      <td>NaN</td>\n",
       "    </tr>\n",
       "    <tr>\n",
       "      <th>3</th>\n",
       "      <td>241032</td>\n",
       "      <td>2016-01-07</td>\n",
       "      <td>f</td>\n",
       "      <td>NaN</td>\n",
       "    </tr>\n",
       "    <tr>\n",
       "      <th>4</th>\n",
       "      <td>241032</td>\n",
       "      <td>2016-01-08</td>\n",
       "      <td>f</td>\n",
       "      <td>NaN</td>\n",
       "    </tr>\n",
       "  </tbody>\n",
       "</table>\n",
       "</div>"
      ],
      "text/plain": [
       "   listing_id        date available   price\n",
       "0      241032  2016-01-04         t  $85.00\n",
       "1      241032  2016-01-05         t  $85.00\n",
       "2      241032  2016-01-06         f     NaN\n",
       "3      241032  2016-01-07         f     NaN\n",
       "4      241032  2016-01-08         f     NaN"
      ]
     },
     "execution_count": 12,
     "metadata": {},
     "output_type": "execute_result"
    }
   ],
   "source": [
    "price.head()"
   ]
  },
  {
   "cell_type": "code",
   "execution_count": 13,
   "metadata": {
    "scrolled": true
   },
   "outputs": [
    {
     "data": {
      "text/plain": [
       "(1393570, 4)"
      ]
     },
     "execution_count": 13,
     "metadata": {},
     "output_type": "execute_result"
    }
   ],
   "source": [
    "price.shape"
   ]
  },
  {
   "cell_type": "code",
   "execution_count": 14,
   "metadata": {},
   "outputs": [
    {
     "data": {
      "text/plain": [
       "listing_id     int64\n",
       "date          object\n",
       "available     object\n",
       "price         object\n",
       "dtype: object"
      ]
     },
     "execution_count": 14,
     "metadata": {},
     "output_type": "execute_result"
    }
   ],
   "source": [
    "price.dtypes"
   ]
  },
  {
   "cell_type": "code",
   "execution_count": 15,
   "metadata": {},
   "outputs": [],
   "source": [
    "# Convert object date to datetime to analyze prices over time\n",
    "price['date'] =  pd.to_datetime(price['date'], format = '%Y-%m-%d')"
   ]
  },
  {
   "cell_type": "code",
   "execution_count": 16,
   "metadata": {
    "scrolled": true
   },
   "outputs": [
    {
     "data": {
      "text/plain": [
       "(Timestamp('2016-01-04 00:00:00'), Timestamp('2017-01-02 00:00:00'))"
      ]
     },
     "execution_count": 16,
     "metadata": {},
     "output_type": "execute_result"
    }
   ],
   "source": [
    "price['date'].min(), price['date'].max()"
   ]
  },
  {
   "cell_type": "code",
   "execution_count": 17,
   "metadata": {},
   "outputs": [],
   "source": [
    "# Remove special characters from price column\n",
    "price['price'] = pd.to_numeric(price['price'].str.translate(str.maketrans({'$': '', ',': ''})))"
   ]
  },
  {
   "cell_type": "code",
   "execution_count": 18,
   "metadata": {
    "scrolled": true
   },
   "outputs": [
    {
     "data": {
      "text/plain": [
       "listing_id             int64\n",
       "date          datetime64[ns]\n",
       "available             object\n",
       "price                float64\n",
       "dtype: object"
      ]
     },
     "execution_count": 18,
     "metadata": {},
     "output_type": "execute_result"
    }
   ],
   "source": [
    "price.dtypes"
   ]
  },
  {
   "cell_type": "code",
   "execution_count": 19,
   "metadata": {
    "scrolled": false
   },
   "outputs": [
    {
     "data": {
      "text/html": [
       "<div>\n",
       "<style scoped>\n",
       "    .dataframe tbody tr th:only-of-type {\n",
       "        vertical-align: middle;\n",
       "    }\n",
       "\n",
       "    .dataframe tbody tr th {\n",
       "        vertical-align: top;\n",
       "    }\n",
       "\n",
       "    .dataframe thead th {\n",
       "        text-align: right;\n",
       "    }\n",
       "</style>\n",
       "<table border=\"1\" class=\"dataframe\">\n",
       "  <thead>\n",
       "    <tr style=\"text-align: right;\">\n",
       "      <th></th>\n",
       "      <th>listing_id</th>\n",
       "      <th>date</th>\n",
       "      <th>available</th>\n",
       "      <th>price</th>\n",
       "    </tr>\n",
       "  </thead>\n",
       "  <tbody>\n",
       "    <tr>\n",
       "      <th>1255620</th>\n",
       "      <td>6678058</td>\n",
       "      <td>2016-01-24</td>\n",
       "      <td>t</td>\n",
       "      <td>110.0</td>\n",
       "    </tr>\n",
       "    <tr>\n",
       "      <th>660304</th>\n",
       "      <td>6847052</td>\n",
       "      <td>2016-01-23</td>\n",
       "      <td>t</td>\n",
       "      <td>129.0</td>\n",
       "    </tr>\n",
       "    <tr>\n",
       "      <th>1023616</th>\n",
       "      <td>5242712</td>\n",
       "      <td>2016-06-08</td>\n",
       "      <td>t</td>\n",
       "      <td>134.0</td>\n",
       "    </tr>\n",
       "    <tr>\n",
       "      <th>649160</th>\n",
       "      <td>8102349</td>\n",
       "      <td>2016-07-12</td>\n",
       "      <td>t</td>\n",
       "      <td>69.0</td>\n",
       "    </tr>\n",
       "    <tr>\n",
       "      <th>267582</th>\n",
       "      <td>3263071</td>\n",
       "      <td>2016-02-10</td>\n",
       "      <td>t</td>\n",
       "      <td>85.0</td>\n",
       "    </tr>\n",
       "  </tbody>\n",
       "</table>\n",
       "</div>"
      ],
      "text/plain": [
       "         listing_id       date available  price\n",
       "1255620     6678058 2016-01-24         t  110.0\n",
       "660304      6847052 2016-01-23         t  129.0\n",
       "1023616     5242712 2016-06-08         t  134.0\n",
       "649160      8102349 2016-07-12         t   69.0\n",
       "267582      3263071 2016-02-10         t   85.0"
      ]
     },
     "execution_count": 19,
     "metadata": {},
     "output_type": "execute_result"
    }
   ],
   "source": [
    "price[price['available'] == 't'].sample(n = 5)"
   ]
  },
  {
   "cell_type": "code",
   "execution_count": 20,
   "metadata": {},
   "outputs": [],
   "source": [
    "price.sort_values(by = ['date', 'available','listing_id'], inplace = True, ascending = False)"
   ]
  },
  {
   "cell_type": "code",
   "execution_count": 21,
   "metadata": {},
   "outputs": [
    {
     "data": {
      "text/plain": [
       "t    934542\n",
       "f    459028\n",
       "Name: available, dtype: int64"
      ]
     },
     "execution_count": 21,
     "metadata": {},
     "output_type": "execute_result"
    }
   ],
   "source": [
    "price['available'].value_counts()"
   ]
  },
  {
   "cell_type": "code",
   "execution_count": 22,
   "metadata": {
    "scrolled": true
   },
   "outputs": [
    {
     "data": {
      "image/png": "[encoded data removed]",
      "text/plain": [
       "<Figure size 720x360 with 1 Axes>"
      ]
     },
     "metadata": {
      "needs_background": "light"
     },
     "output_type": "display_data"
    }
   ],
   "source": [
    "# 1. How does nightly average price change in year 2016?\n",
    "fig = plt.subplots(figsize = (10,5))\n",
    "sns.lineplot(x = 'date', y = 'price', data = price[price['available'] == 't'], ci = None, n_boot = 500);\n",
    "plt.xlabel('Year-Month');\n",
    "plt.ylabel('Daily Price');\n",
    "plt.title('Average Daily Price for Airbnb Homes in Seattle in Year 2016');\n",
    "plt.savefig('Average_daily_price.png');"
   ]
  },
  {
   "cell_type": "code",
   "execution_count": 23,
   "metadata": {
    "scrolled": true
   },
   "outputs": [],
   "source": [
    "price['year-month'] = price['date'].dt.date.apply(lambda x: x.strftime('%Y-%m'))"
   ]
  },
  {
   "cell_type": "code",
   "execution_count": 24,
   "metadata": {},
   "outputs": [
    {
     "data": {
      "text/plain": [
       "year-month\n",
       "2016-01    121.568409\n",
       "2016-02    124.293927\n",
       "2016-03    128.644488\n",
       "2016-04    135.097005\n",
       "2016-05    139.538183\n",
       "2016-06    147.473137\n",
       "2016-07    152.094150\n",
       "2016-08    150.656594\n",
       "2016-09    143.255949\n",
       "2016-10    137.031939\n",
       "2016-11    135.688738\n",
       "2016-12    137.251835\n",
       "2017-01    136.882590\n",
       "Name: price, dtype: float64"
      ]
     },
     "execution_count": 24,
     "metadata": {},
     "output_type": "execute_result"
    }
   ],
   "source": [
    "monthly_avg_price = price.groupby('year-month')['price'].mean()\n",
    "monthly_avg_price"
   ]
  },
  {
   "cell_type": "code",
   "execution_count": 25,
   "metadata": {},
   "outputs": [
    {
     "data": {
      "text/plain": [
       "(15.314181057652434, 12.597171537154395)"
      ]
     },
     "execution_count": 25,
     "metadata": {},
     "output_type": "execute_result"
    }
   ],
   "source": [
    "(monthly_avg_price[-1] - monthly_avg_price[0]), (monthly_avg_price[-1] - monthly_avg_price[0]) / monthly_avg_price[0] *100"
   ]
  },
  {
   "cell_type": "markdown",
   "metadata": {},
   "source": [
    "Average daily price for Airbnb homes in Seattle increased steadily from January to July 2016, then started to descrease slowly until September. In September, the average price dropped a lot suddenly and then kept on decreasing until December, after which the price started to increase again and maintained at a level higher than that in January 2016. Overall, Airbnb home prices in Seattle increased year over year from 2016 to 2017 for 12.6%.  "
   ]
  },
  {
   "cell_type": "code",
   "execution_count": 26,
   "metadata": {
    "scrolled": true
   },
   "outputs": [
    {
     "data": {
      "text/html": [
       "<div>\n",
       "<style scoped>\n",
       "    .dataframe tbody tr th:only-of-type {\n",
       "        vertical-align: middle;\n",
       "    }\n",
       "\n",
       "    .dataframe tbody tr th {\n",
       "        vertical-align: top;\n",
       "    }\n",
       "\n",
       "    .dataframe thead th {\n",
       "        text-align: right;\n",
       "    }\n",
       "</style>\n",
       "<table border=\"1\" class=\"dataframe\">\n",
       "  <thead>\n",
       "    <tr style=\"text-align: right;\">\n",
       "      <th></th>\n",
       "      <th>listing_id</th>\n",
       "      <th>date</th>\n",
       "      <th>available</th>\n",
       "      <th>price</th>\n",
       "      <th>year-month</th>\n",
       "    </tr>\n",
       "  </thead>\n",
       "  <tbody>\n",
       "    <tr>\n",
       "      <th>755379</th>\n",
       "      <td>1925661</td>\n",
       "      <td>2016-07-16</td>\n",
       "      <td>t</td>\n",
       "      <td>85.0</td>\n",
       "      <td>2016-07</td>\n",
       "    </tr>\n",
       "    <tr>\n",
       "      <th>1302301</th>\n",
       "      <td>8409695</td>\n",
       "      <td>2016-12-15</td>\n",
       "      <td>t</td>\n",
       "      <td>50.0</td>\n",
       "      <td>2016-12</td>\n",
       "    </tr>\n",
       "    <tr>\n",
       "      <th>74795</th>\n",
       "      <td>9028447</td>\n",
       "      <td>2016-12-04</td>\n",
       "      <td>t</td>\n",
       "      <td>100.0</td>\n",
       "      <td>2016-12</td>\n",
       "    </tr>\n",
       "    <tr>\n",
       "      <th>211827</th>\n",
       "      <td>7397476</td>\n",
       "      <td>2016-05-10</td>\n",
       "      <td>t</td>\n",
       "      <td>250.0</td>\n",
       "      <td>2016-05</td>\n",
       "    </tr>\n",
       "    <tr>\n",
       "      <th>1308919</th>\n",
       "      <td>2367298</td>\n",
       "      <td>2016-02-02</td>\n",
       "      <td>t</td>\n",
       "      <td>111.0</td>\n",
       "      <td>2016-02</td>\n",
       "    </tr>\n",
       "  </tbody>\n",
       "</table>\n",
       "</div>"
      ],
      "text/plain": [
       "         listing_id       date available  price year-month\n",
       "755379      1925661 2016-07-16         t   85.0    2016-07\n",
       "1302301     8409695 2016-12-15         t   50.0    2016-12\n",
       "74795       9028447 2016-12-04         t  100.0    2016-12\n",
       "211827      7397476 2016-05-10         t  250.0    2016-05\n",
       "1308919     2367298 2016-02-02         t  111.0    2016-02"
      ]
     },
     "execution_count": 26,
     "metadata": {},
     "output_type": "execute_result"
    }
   ],
   "source": [
    "price.sample(n = 5)"
   ]
  },
  {
   "cell_type": "code",
   "execution_count": null,
   "metadata": {},
   "outputs": [],
   "source": []
  },
  {
   "cell_type": "code",
   "execution_count": 27,
   "metadata": {
    "scrolled": true
   },
   "outputs": [
    {
     "data": {
      "text/html": [
       "<div>\n",
       "<style scoped>\n",
       "    .dataframe tbody tr th:only-of-type {\n",
       "        vertical-align: middle;\n",
       "    }\n",
       "\n",
       "    .dataframe tbody tr th {\n",
       "        vertical-align: top;\n",
       "    }\n",
       "\n",
       "    .dataframe thead th {\n",
       "        text-align: right;\n",
       "    }\n",
       "</style>\n",
       "<table border=\"1\" class=\"dataframe\">\n",
       "  <thead>\n",
       "    <tr style=\"text-align: right;\">\n",
       "      <th></th>\n",
       "      <th>date</th>\n",
       "      <th>holiday</th>\n",
       "    </tr>\n",
       "  </thead>\n",
       "  <tbody>\n",
       "    <tr>\n",
       "      <th>1</th>\n",
       "      <td>2016-01-18</td>\n",
       "      <td>Martin Luther King Jr. Day</td>\n",
       "    </tr>\n",
       "    <tr>\n",
       "      <th>2</th>\n",
       "      <td>2016-02-15</td>\n",
       "      <td>Washington's Birthday</td>\n",
       "    </tr>\n",
       "    <tr>\n",
       "      <th>3</th>\n",
       "      <td>2016-05-30</td>\n",
       "      <td>Memorial Day</td>\n",
       "    </tr>\n",
       "    <tr>\n",
       "      <th>4</th>\n",
       "      <td>2016-07-04</td>\n",
       "      <td>Independence Day</td>\n",
       "    </tr>\n",
       "    <tr>\n",
       "      <th>5</th>\n",
       "      <td>2016-09-05</td>\n",
       "      <td>Labor Day</td>\n",
       "    </tr>\n",
       "    <tr>\n",
       "      <th>6</th>\n",
       "      <td>2016-10-10</td>\n",
       "      <td>Columbus Day</td>\n",
       "    </tr>\n",
       "    <tr>\n",
       "      <th>7</th>\n",
       "      <td>2016-11-11</td>\n",
       "      <td>Veterans Day</td>\n",
       "    </tr>\n",
       "    <tr>\n",
       "      <th>8</th>\n",
       "      <td>2016-11-24</td>\n",
       "      <td>Thanksgiving</td>\n",
       "    </tr>\n",
       "    <tr>\n",
       "      <th>9</th>\n",
       "      <td>2016-12-25</td>\n",
       "      <td>Christmas Day</td>\n",
       "    </tr>\n",
       "    <tr>\n",
       "      <th>10</th>\n",
       "      <td>2016-12-26</td>\n",
       "      <td>Christmas Day (Observed)</td>\n",
       "    </tr>\n",
       "  </tbody>\n",
       "</table>\n",
       "</div>"
      ],
      "text/plain": [
       "         date                     holiday\n",
       "1  2016-01-18  Martin Luther King Jr. Day\n",
       "2  2016-02-15       Washington's Birthday\n",
       "3  2016-05-30                Memorial Day\n",
       "4  2016-07-04            Independence Day\n",
       "5  2016-09-05                   Labor Day\n",
       "6  2016-10-10                Columbus Day\n",
       "7  2016-11-11                Veterans Day\n",
       "8  2016-11-24                Thanksgiving\n",
       "9  2016-12-25               Christmas Day\n",
       "10 2016-12-26    Christmas Day (Observed)"
      ]
     },
     "execution_count": 27,
     "metadata": {},
     "output_type": "execute_result"
    }
   ],
   "source": [
    "# 2. How do Airbnb prices respond to national holidays? How much do they differ from normal daily average? \n",
    "holidays_2016 = pd.DataFrame.from_dict(data = holidays.US(years = 2016), orient = 'index').reset_index()\n",
    "holidays_2016.drop(0, axis = 0, inplace = True)  # Price data starts from 2016-01-04\n",
    "holidays_2016.columns = ['date', 'holiday']\n",
    "holidays_2016['date'] = pd.to_datetime(holidays_2016['date'])  # convert to datetime type to merge with price data below\n",
    "holidays_2016"
   ]
  },
  {
   "cell_type": "code",
   "execution_count": 28,
   "metadata": {},
   "outputs": [],
   "source": [
    "# Decide the holiday week days before and after the holiday\n",
    "holidays_2016['week_b4_holiday'] = holidays_2016.loc[holidays_2016['holiday'].notnull(), 'date'] + timedelta(days = -5)\n",
    "holidays_2016['week_after_holiday'] = holidays_2016.loc[holidays_2016['holiday'].notnull(), 'date'] + timedelta(days = 5)"
   ]
  },
  {
   "cell_type": "code",
   "execution_count": 29,
   "metadata": {},
   "outputs": [
    {
     "data": {
      "text/html": [
       "<div>\n",
       "<style scoped>\n",
       "    .dataframe tbody tr th:only-of-type {\n",
       "        vertical-align: middle;\n",
       "    }\n",
       "\n",
       "    .dataframe tbody tr th {\n",
       "        vertical-align: top;\n",
       "    }\n",
       "\n",
       "    .dataframe thead th {\n",
       "        text-align: right;\n",
       "    }\n",
       "</style>\n",
       "<table border=\"1\" class=\"dataframe\">\n",
       "  <thead>\n",
       "    <tr style=\"text-align: right;\">\n",
       "      <th></th>\n",
       "      <th>date</th>\n",
       "      <th>holiday</th>\n",
       "      <th>week_b4_holiday</th>\n",
       "      <th>week_after_holiday</th>\n",
       "    </tr>\n",
       "  </thead>\n",
       "  <tbody>\n",
       "    <tr>\n",
       "      <th>1</th>\n",
       "      <td>2016-01-18</td>\n",
       "      <td>Martin Luther King Jr. Day</td>\n",
       "      <td>2016-01-13</td>\n",
       "      <td>2016-01-23</td>\n",
       "    </tr>\n",
       "    <tr>\n",
       "      <th>2</th>\n",
       "      <td>2016-02-15</td>\n",
       "      <td>Washington's Birthday</td>\n",
       "      <td>2016-02-10</td>\n",
       "      <td>2016-02-20</td>\n",
       "    </tr>\n",
       "    <tr>\n",
       "      <th>3</th>\n",
       "      <td>2016-05-30</td>\n",
       "      <td>Memorial Day</td>\n",
       "      <td>2016-05-25</td>\n",
       "      <td>2016-06-04</td>\n",
       "    </tr>\n",
       "    <tr>\n",
       "      <th>4</th>\n",
       "      <td>2016-07-04</td>\n",
       "      <td>Independence Day</td>\n",
       "      <td>2016-06-29</td>\n",
       "      <td>2016-07-09</td>\n",
       "    </tr>\n",
       "    <tr>\n",
       "      <th>5</th>\n",
       "      <td>2016-09-05</td>\n",
       "      <td>Labor Day</td>\n",
       "      <td>2016-08-31</td>\n",
       "      <td>2016-09-10</td>\n",
       "    </tr>\n",
       "    <tr>\n",
       "      <th>6</th>\n",
       "      <td>2016-10-10</td>\n",
       "      <td>Columbus Day</td>\n",
       "      <td>2016-10-05</td>\n",
       "      <td>2016-10-15</td>\n",
       "    </tr>\n",
       "    <tr>\n",
       "      <th>7</th>\n",
       "      <td>2016-11-11</td>\n",
       "      <td>Veterans Day</td>\n",
       "      <td>2016-11-06</td>\n",
       "      <td>2016-11-16</td>\n",
       "    </tr>\n",
       "    <tr>\n",
       "      <th>8</th>\n",
       "      <td>2016-11-24</td>\n",
       "      <td>Thanksgiving</td>\n",
       "      <td>2016-11-19</td>\n",
       "      <td>2016-11-29</td>\n",
       "    </tr>\n",
       "    <tr>\n",
       "      <th>9</th>\n",
       "      <td>2016-12-25</td>\n",
       "      <td>Christmas Day</td>\n",
       "      <td>2016-12-20</td>\n",
       "      <td>2016-12-30</td>\n",
       "    </tr>\n",
       "    <tr>\n",
       "      <th>10</th>\n",
       "      <td>2016-12-26</td>\n",
       "      <td>Christmas Day (Observed)</td>\n",
       "      <td>2016-12-21</td>\n",
       "      <td>2016-12-31</td>\n",
       "    </tr>\n",
       "  </tbody>\n",
       "</table>\n",
       "</div>"
      ],
      "text/plain": [
       "         date                     holiday week_b4_holiday week_after_holiday\n",
       "1  2016-01-18  Martin Luther King Jr. Day      2016-01-13         2016-01-23\n",
       "2  2016-02-15       Washington's Birthday      2016-02-10         2016-02-20\n",
       "3  2016-05-30                Memorial Day      2016-05-25         2016-06-04\n",
       "4  2016-07-04            Independence Day      2016-06-29         2016-07-09\n",
       "5  2016-09-05                   Labor Day      2016-08-31         2016-09-10\n",
       "6  2016-10-10                Columbus Day      2016-10-05         2016-10-15\n",
       "7  2016-11-11                Veterans Day      2016-11-06         2016-11-16\n",
       "8  2016-11-24                Thanksgiving      2016-11-19         2016-11-29\n",
       "9  2016-12-25               Christmas Day      2016-12-20         2016-12-30\n",
       "10 2016-12-26    Christmas Day (Observed)      2016-12-21         2016-12-31"
      ]
     },
     "execution_count": 29,
     "metadata": {},
     "output_type": "execute_result"
    }
   ],
   "source": [
    "holidays_2016"
   ]
  },
  {
   "cell_type": "code",
   "execution_count": 30,
   "metadata": {},
   "outputs": [],
   "source": [
    "price_holiday = price.merge(holidays_2016, how = 'outer', on = 'date').sort_values(by = ['date'])"
   ]
  },
  {
   "cell_type": "code",
   "execution_count": 31,
   "metadata": {},
   "outputs": [],
   "source": [
    "# Backward and forward fill the holiday week dates\n",
    "price_holiday['week_b4_holiday'].fillna(method = 'bfill', inplace= True)\n",
    "price_holiday['week_after_holiday'].fillna(method = 'ffill', inplace= True)"
   ]
  },
  {
   "cell_type": "code",
   "execution_count": 32,
   "metadata": {},
   "outputs": [],
   "source": [
    "# Decide whether a specific day is in a holiday week\n",
    "price_holiday.loc[(price_holiday['date'] < price_holiday['week_b4_holiday']) & (price_holiday['week_after_holiday'].isnull()), \n",
    "                  'holiday_week'] = 0  # earliest days in 2016\n",
    "\n",
    "price_holiday.loc[(price_holiday['week_b4_holiday'].isnull()) & (price_holiday['date'] <= price_holiday['week_after_holiday']), \n",
    "                  'holiday_week'] = 1  # earlist days in 2017\n",
    "\n",
    "price_holiday.loc[(price_holiday['date'] >= price_holiday['week_b4_holiday']) \n",
    "                  | (price_holiday['date'] <= price_holiday['week_after_holiday']), \n",
    "                  'holiday_week'] = 1  # days between two holidays\n",
    "\n",
    "price_holiday.loc[price_holiday['holiday_week'].isnull(), 'holiday_week'] = 0 # days after one holiday and before the next one"
   ]
  },
  {
   "cell_type": "code",
   "execution_count": 33,
   "metadata": {
    "scrolled": true
   },
   "outputs": [
    {
     "data": {
      "image/png": "[encoded data removed]",
      "text/plain": [
       "<Figure size 720x360 with 1 Axes>"
      ]
     },
     "metadata": {
      "needs_background": "light"
     },
     "output_type": "display_data"
    }
   ],
   "source": [
    "# Plot the average daily prices by holiday week\n",
    "fig = plt.subplots(figsize = (10,5))\n",
    "sns.lineplot(x = 'date', y = 'price', hue = 'holiday_week', ci= None, n_boot = 500, \n",
    "             data = price_holiday);\n",
    "plt.xlabel('Year-Month');\n",
    "plt.ylabel('Daily Price');\n",
    "plt.title('Average Daily Price in Holiday vs in Normal Weeks');\n",
    "plt.savefig('Price_diff_in_holiday_weeks.png')"
   ]
  },
  {
   "cell_type": "code",
   "execution_count": 34,
   "metadata": {},
   "outputs": [],
   "source": [
    "# Check exact average prices in holiday weeks for each holiday\n",
    "price_by_holiday_month = price_holiday.groupby(['holiday_week', 'year-month'])['price'].mean().reset_index()"
   ]
  },
  {
   "cell_type": "code",
   "execution_count": 35,
   "metadata": {
    "scrolled": true
   },
   "outputs": [
    {
     "data": {
      "text/html": [
       "<div>\n",
       "<style scoped>\n",
       "    .dataframe tbody tr th:only-of-type {\n",
       "        vertical-align: middle;\n",
       "    }\n",
       "\n",
       "    .dataframe tbody tr th {\n",
       "        vertical-align: top;\n",
       "    }\n",
       "\n",
       "    .dataframe thead th {\n",
       "        text-align: right;\n",
       "    }\n",
       "</style>\n",
       "<table border=\"1\" class=\"dataframe\">\n",
       "  <thead>\n",
       "    <tr style=\"text-align: right;\">\n",
       "      <th>holiday_week</th>\n",
       "      <th>0.0</th>\n",
       "      <th>1.0</th>\n",
       "      <th>diff</th>\n",
       "    </tr>\n",
       "    <tr>\n",
       "      <th>year-month</th>\n",
       "      <th></th>\n",
       "      <th></th>\n",
       "      <th></th>\n",
       "    </tr>\n",
       "  </thead>\n",
       "  <tbody>\n",
       "    <tr>\n",
       "      <th>2016-01</th>\n",
       "      <td>120.896860</td>\n",
       "      <td>122.575775</td>\n",
       "      <td>1.678915</td>\n",
       "    </tr>\n",
       "    <tr>\n",
       "      <th>2016-02</th>\n",
       "      <td>123.018322</td>\n",
       "      <td>126.389087</td>\n",
       "      <td>3.370765</td>\n",
       "    </tr>\n",
       "    <tr>\n",
       "      <th>2016-03</th>\n",
       "      <td>128.644488</td>\n",
       "      <td>NaN</td>\n",
       "      <td>NaN</td>\n",
       "    </tr>\n",
       "    <tr>\n",
       "      <th>2016-04</th>\n",
       "      <td>135.097005</td>\n",
       "      <td>NaN</td>\n",
       "      <td>NaN</td>\n",
       "    </tr>\n",
       "    <tr>\n",
       "      <th>2016-05</th>\n",
       "      <td>138.283122</td>\n",
       "      <td>143.848944</td>\n",
       "      <td>5.565822</td>\n",
       "    </tr>\n",
       "    <tr>\n",
       "      <th>2016-06</th>\n",
       "      <td>147.391243</td>\n",
       "      <td>147.799703</td>\n",
       "      <td>0.408460</td>\n",
       "    </tr>\n",
       "    <tr>\n",
       "      <th>2016-07</th>\n",
       "      <td>151.512096</td>\n",
       "      <td>153.531411</td>\n",
       "      <td>2.019315</td>\n",
       "    </tr>\n",
       "    <tr>\n",
       "      <th>2016-08</th>\n",
       "      <td>150.729129</td>\n",
       "      <td>148.536817</td>\n",
       "      <td>-2.192311</td>\n",
       "    </tr>\n",
       "    <tr>\n",
       "      <th>2016-09</th>\n",
       "      <td>141.949744</td>\n",
       "      <td>145.914188</td>\n",
       "      <td>3.964444</td>\n",
       "    </tr>\n",
       "    <tr>\n",
       "      <th>2016-10</th>\n",
       "      <td>136.528707</td>\n",
       "      <td>137.950610</td>\n",
       "      <td>1.421903</td>\n",
       "    </tr>\n",
       "    <tr>\n",
       "      <th>2016-11</th>\n",
       "      <td>136.342986</td>\n",
       "      <td>135.452641</td>\n",
       "      <td>-0.890345</td>\n",
       "    </tr>\n",
       "    <tr>\n",
       "      <th>2016-12</th>\n",
       "      <td>135.983805</td>\n",
       "      <td>139.234665</td>\n",
       "      <td>3.250861</td>\n",
       "    </tr>\n",
       "    <tr>\n",
       "      <th>2017-01</th>\n",
       "      <td>136.882590</td>\n",
       "      <td>NaN</td>\n",
       "      <td>NaN</td>\n",
       "    </tr>\n",
       "  </tbody>\n",
       "</table>\n",
       "</div>"
      ],
      "text/plain": [
       "holiday_week         0.0         1.0      diff\n",
       "year-month                                    \n",
       "2016-01       120.896860  122.575775  1.678915\n",
       "2016-02       123.018322  126.389087  3.370765\n",
       "2016-03       128.644488         NaN       NaN\n",
       "2016-04       135.097005         NaN       NaN\n",
       "2016-05       138.283122  143.848944  5.565822\n",
       "2016-06       147.391243  147.799703  0.408460\n",
       "2016-07       151.512096  153.531411  2.019315\n",
       "2016-08       150.729129  148.536817 -2.192311\n",
       "2016-09       141.949744  145.914188  3.964444\n",
       "2016-10       136.528707  137.950610  1.421903\n",
       "2016-11       136.342986  135.452641 -0.890345\n",
       "2016-12       135.983805  139.234665  3.250861\n",
       "2017-01       136.882590         NaN       NaN"
      ]
     },
     "execution_count": 35,
     "metadata": {},
     "output_type": "execute_result"
    }
   ],
   "source": [
    "price_by_month_holiday = pd.pivot_table(price_by_holiday_month, values = 'price', index = 'year-month', \n",
    "                                        columns = ['holiday_week'])\n",
    "price_by_month_holiday['diff'] = price_by_month_holiday[1.0] - price_by_month_holiday[0.0]\n",
    "price_by_month_holiday"
   ]
  },
  {
   "cell_type": "markdown",
   "metadata": {},
   "source": [
    "Average daily home prices are slightly higher during holiday weeks than normal weeks, but the difference is barely noticeable. "
   ]
  },
  {
   "cell_type": "code",
   "execution_count": null,
   "metadata": {},
   "outputs": [],
   "source": []
  },
  {
   "cell_type": "code",
   "execution_count": 36,
   "metadata": {},
   "outputs": [],
   "source": [
    "# 3. Merge price data with listings data to analyze price by neighbourhood\n",
    "price_region = price.merge(listings, left_on = 'listing_id', right_on = 'id')"
   ]
  },
  {
   "cell_type": "code",
   "execution_count": 37,
   "metadata": {},
   "outputs": [],
   "source": [
    "# only keep variables needed for analysis\n",
    "price_region_type = price_region[['id', 'date', 'year-month', 'available', 'price_x', 'neighbourhood_group_cleansed', 'zipcode', 'property_type',\n",
    " 'room_type', 'accommodates']]"
   ]
  },
  {
   "cell_type": "code",
   "execution_count": 38,
   "metadata": {
    "scrolled": true
   },
   "outputs": [
    {
     "data": {
      "text/plain": [
       "0             98133\n",
       "365           98116\n",
       "730           98102\n",
       "1095          98125\n",
       "1825          98112\n",
       "2190          98119\n",
       "3285          98121\n",
       "4015          98122\n",
       "4380          98109\n",
       "4745          98101\n",
       "5475          98103\n",
       "5840          98107\n",
       "7300          98115\n",
       "7665          98104\n",
       "12045         98199\n",
       "12775         98105\n",
       "14235         98136\n",
       "14600         98126\n",
       "17155         98144\n",
       "28105         98118\n",
       "28835         98117\n",
       "29200         98106\n",
       "33580           NaN\n",
       "60590         98108\n",
       "71175     99\\n98122\n",
       "92345         98146\n",
       "139795        98178\n",
       "151475        98177\n",
       "769055        98134\n",
       "Name: zipcode, dtype: object"
      ]
     },
     "execution_count": 38,
     "metadata": {},
     "output_type": "execute_result"
    }
   ],
   "source": [
    "price_region_type['zipcode'].drop_duplicates()"
   ]
  },
  {
   "cell_type": "code",
   "execution_count": 39,
   "metadata": {},
   "outputs": [
    {
     "name": "stderr",
     "output_type": "stream",
     "text": [
      "C:\\Users\\Haiyan\\Anaconda3\\lib\\site-packages\\pandas\\core\\indexing.py:543: SettingWithCopyWarning: \n",
      "A value is trying to be set on a copy of a slice from a DataFrame.\n",
      "Try using .loc[row_indexer,col_indexer] = value instead\n",
      "\n",
      "See the caveats in the documentation: http://pandas.pydata.org/pandas-docs/stable/indexing.html#indexing-view-versus-copy\n",
      "  self.obj[item] = s\n"
     ]
    }
   ],
   "source": [
    "price_region_type.loc[(price_region_type['zipcode'] == \"99\\n98122\"), 'zipcode'] = '98122'"
   ]
  },
  {
   "cell_type": "code",
   "execution_count": 40,
   "metadata": {},
   "outputs": [
    {
     "data": {
      "text/html": [
       "<div>\n",
       "<style scoped>\n",
       "    .dataframe tbody tr th:only-of-type {\n",
       "        vertical-align: middle;\n",
       "    }\n",
       "\n",
       "    .dataframe tbody tr th {\n",
       "        vertical-align: top;\n",
       "    }\n",
       "\n",
       "    .dataframe thead th {\n",
       "        text-align: right;\n",
       "    }\n",
       "</style>\n",
       "<table border=\"1\" class=\"dataframe\">\n",
       "  <thead>\n",
       "    <tr style=\"text-align: right;\">\n",
       "      <th></th>\n",
       "      <th>id</th>\n",
       "      <th>date</th>\n",
       "      <th>year-month</th>\n",
       "      <th>available</th>\n",
       "      <th>price_x</th>\n",
       "      <th>neighbourhood_group_cleansed</th>\n",
       "      <th>zipcode</th>\n",
       "      <th>property_type</th>\n",
       "      <th>room_type</th>\n",
       "      <th>accommodates</th>\n",
       "    </tr>\n",
       "  </thead>\n",
       "  <tbody>\n",
       "    <tr>\n",
       "      <th>0</th>\n",
       "      <td>10340165</td>\n",
       "      <td>2017-01-02</td>\n",
       "      <td>2017-01</td>\n",
       "      <td>t</td>\n",
       "      <td>43.0</td>\n",
       "      <td>Other neighborhoods</td>\n",
       "      <td>98133</td>\n",
       "      <td>House</td>\n",
       "      <td>Private room</td>\n",
       "      <td>2</td>\n",
       "    </tr>\n",
       "    <tr>\n",
       "      <th>1</th>\n",
       "      <td>10340165</td>\n",
       "      <td>2017-01-01</td>\n",
       "      <td>2017-01</td>\n",
       "      <td>t</td>\n",
       "      <td>43.0</td>\n",
       "      <td>Other neighborhoods</td>\n",
       "      <td>98133</td>\n",
       "      <td>House</td>\n",
       "      <td>Private room</td>\n",
       "      <td>2</td>\n",
       "    </tr>\n",
       "    <tr>\n",
       "      <th>2</th>\n",
       "      <td>10340165</td>\n",
       "      <td>2016-12-31</td>\n",
       "      <td>2016-12</td>\n",
       "      <td>t</td>\n",
       "      <td>43.0</td>\n",
       "      <td>Other neighborhoods</td>\n",
       "      <td>98133</td>\n",
       "      <td>House</td>\n",
       "      <td>Private room</td>\n",
       "      <td>2</td>\n",
       "    </tr>\n",
       "    <tr>\n",
       "      <th>3</th>\n",
       "      <td>10340165</td>\n",
       "      <td>2016-12-30</td>\n",
       "      <td>2016-12</td>\n",
       "      <td>t</td>\n",
       "      <td>43.0</td>\n",
       "      <td>Other neighborhoods</td>\n",
       "      <td>98133</td>\n",
       "      <td>House</td>\n",
       "      <td>Private room</td>\n",
       "      <td>2</td>\n",
       "    </tr>\n",
       "    <tr>\n",
       "      <th>4</th>\n",
       "      <td>10340165</td>\n",
       "      <td>2016-12-29</td>\n",
       "      <td>2016-12</td>\n",
       "      <td>t</td>\n",
       "      <td>43.0</td>\n",
       "      <td>Other neighborhoods</td>\n",
       "      <td>98133</td>\n",
       "      <td>House</td>\n",
       "      <td>Private room</td>\n",
       "      <td>2</td>\n",
       "    </tr>\n",
       "  </tbody>\n",
       "</table>\n",
       "</div>"
      ],
      "text/plain": [
       "         id       date year-month available  price_x  \\\n",
       "0  10340165 2017-01-02    2017-01         t     43.0   \n",
       "1  10340165 2017-01-01    2017-01         t     43.0   \n",
       "2  10340165 2016-12-31    2016-12         t     43.0   \n",
       "3  10340165 2016-12-30    2016-12         t     43.0   \n",
       "4  10340165 2016-12-29    2016-12         t     43.0   \n",
       "\n",
       "  neighbourhood_group_cleansed zipcode property_type     room_type  \\\n",
       "0          Other neighborhoods   98133         House  Private room   \n",
       "1          Other neighborhoods   98133         House  Private room   \n",
       "2          Other neighborhoods   98133         House  Private room   \n",
       "3          Other neighborhoods   98133         House  Private room   \n",
       "4          Other neighborhoods   98133         House  Private room   \n",
       "\n",
       "   accommodates  \n",
       "0             2  \n",
       "1             2  \n",
       "2             2  \n",
       "3             2  \n",
       "4             2  "
      ]
     },
     "execution_count": 40,
     "metadata": {},
     "output_type": "execute_result"
    }
   ],
   "source": [
    "price_region_type.head()"
   ]
  },
  {
   "cell_type": "code",
   "execution_count": 41,
   "metadata": {
    "scrolled": true
   },
   "outputs": [
    {
     "data": {
      "image/png": "[encoded data removed]",
      "text/plain": [
       "<Figure size 1080x360 with 1 Axes>"
      ]
     },
     "metadata": {
      "needs_background": "light"
     },
     "output_type": "display_data"
    }
   ],
   "source": [
    "fig, ax = plt.subplots(figsize = (15,5))\n",
    "ax = sns.boxplot(x = 'neighbourhood_group_cleansed', y = 'price_x', palette = \"RdBu\", \n",
    "             data = price_region_type[price_region_type['available'] == 't']);\n",
    "plt.setp(ax.get_xticklabels(), rotation=60);\n",
    "plt.xlabel('Neighbourhood');\n",
    "plt.ylabel('Price');\n",
    "plt.title('Average Daily Price by Neighbourhood');"
   ]
  },
  {
   "cell_type": "code",
   "execution_count": 42,
   "metadata": {},
   "outputs": [],
   "source": [
    "# Get exact average monthly prices by neighborhood\n",
    "avg_price_region = price_region_type[price_region_type['available'] == 't'].groupby(['year-month', 'neighbourhood_group_cleansed'])['price_x'].mean().sort_values(ascending = False).reset_index().sort_values(by = ['year-month', 'price_x'])"
   ]
  },
  {
   "cell_type": "code",
   "execution_count": 43,
   "metadata": {
    "scrolled": true
   },
   "outputs": [],
   "source": [
    "# Encode neighbourhood valus using Label Encoding, because scatter plot requires numeric values\n",
    "avg_price_region['neighbourhood_group_cleansed'] = avg_price_region['neighbourhood_group_cleansed'].astype('category')\n",
    "avg_price_region['neighbourhood_group_cat'] = avg_price_region['neighbourhood_group_cleansed'].cat.codes"
   ]
  },
  {
   "cell_type": "code",
   "execution_count": 44,
   "metadata": {
    "scrolled": true
   },
   "outputs": [],
   "source": [
    "# Define a function to plot the average daily prices by neighborhood in a specific month, with month being a string\n",
    "def plotmonth(month):\n",
    "    data = avg_price_region[avg_price_region['year-month'] == month].sort_values('price_x', ascending = False).reset_index(drop = True)\n",
    "    x = data['neighbourhood_group_cat']\n",
    "    y = data['price_x']\n",
    "    label = data['neighbourhood_group_cleansed']\n",
    "    area = data.price_x\n",
    "\n",
    "    fig = plt.subplots(figsize = (14, 7))\n",
    "    plt.scatter(x, y, s = area, linewidths = 1, edgecolors = 'k')\n",
    "    plt.xlabel('Neighbourhood')\n",
    "    plt.ylabel('Daily Price')\n",
    "\n",
    "    # Label each point with the neighborhood name\n",
    "    for i, txt in enumerate(label):\n",
    "        plt.annotate(txt, (x[i]-.5, y[i]+2), verticalalignment = 'bottom', size = 8.5)"
   ]
  },
  {
   "cell_type": "code",
   "execution_count": 45,
   "metadata": {},
   "outputs": [
    {
     "data": {
      "application/vnd.jupyter.widget-view+json": {
       "model_id": "0648cef84aab459185f95ee0002a929b",
       "version_major": 2,
       "version_minor": 0
      },
      "text/plain": [
       "interactive(children=(Dropdown(description='month', options=('2016-01', '2016-02', '2016-03', '2016-04', '2016…"
      ]
     },
     "metadata": {},
     "output_type": "display_data"
    },
    {
     "data": {
      "text/plain": [
       "\"\\nIf month is an integer, then can use a slider in the interactive plot:\\n# Create a numerical month column to use in interactive plots with a slider\\nmonth = pd.DataFrame(data = {'year-month': pd.date_range('2016-01', '2017-01', freq = 'MS').strftime('%Y-%m'), \\n                    'month': range(1, 14)})\\navg_price_region = avg_price_region.merge(month, on = 'year-month') \\n\\ninteract(plotmonth, month = widgets.IntSlider(min = 1, max = 13, step = 1, value = 1));\\n\""
      ]
     },
     "execution_count": 45,
     "metadata": {},
     "output_type": "execute_result"
    }
   ],
   "source": [
    "# Create an interactive visualization of the prices over a list a months, with months being strings\n",
    "fig = interact(plotmonth, month = pd.date_range('2016-01', '2017-01', freq = 'MS').strftime('%Y-%m'));\n",
    "\n",
    "'''\n",
    "If month is an integer, then can use a slider in the interactive plot:\n",
    "# Create a numerical month column to use in interactive plots with a slider\n",
    "month = pd.DataFrame(data = {'year-month': pd.date_range('2016-01', '2017-01', freq = 'MS').strftime('%Y-%m'), \n",
    "                    'month': range(1, 14)})\n",
    "avg_price_region = avg_price_region.merge(month, on = 'year-month') \n",
    "\n",
    "interact(plotmonth, month = widgets.IntSlider(min = 1, max = 13, step = 1, value = 1));\n",
    "'''"
   ]
  },
  {
   "cell_type": "code",
   "execution_count": 46,
   "metadata": {
    "scrolled": false
   },
   "outputs": [
    {
     "data": {
      "image/png": "[encoded data removed]",
      "text/plain": [
       "<Figure size 720x504 with 2 Axes>"
      ]
     },
     "metadata": {
      "needs_background": "light"
     },
     "output_type": "display_data"
    }
   ],
   "source": [
    "# Can also visualize the price changes by neighbourhood and month in a heatmap\n",
    "price_region_table = avg_price_region.pivot(index = 'neighbourhood_group_cleansed', columns = 'year-month', values = 'price_x')\n",
    "\n",
    "fig = plt.subplots(figsize = (10, 7))\n",
    "sns.heatmap(price_region_table, cmap = 'Blues');\n",
    "plt.xlabel('Year-Month');\n",
    "plt.ylabel('Neighbourhood');\n",
    "plt.title('Average Daily Price by Neighbourhood and Month');\n",
    "plt.savefig('Price_by_neighbourhood_month_heatmap.png')"
   ]
  },
  {
   "cell_type": "markdown",
   "metadata": {},
   "source": [
    "Magnolia, Downtown, and Queen Anne are the most expensive neighborhoods in Seattle throughout year 2016. Airbnb home prices in Downtown were the highest during May to September, while those in Magnolia neighborhood were the highest in all months except this period. Lake City, Northgate, and Delridge were the cheapest neighborhoods in Seattle for the entire year. "
   ]
  },
  {
   "cell_type": "code",
   "execution_count": null,
   "metadata": {},
   "outputs": [],
   "source": []
  },
  {
   "cell_type": "code",
   "execution_count": 47,
   "metadata": {
    "scrolled": true
   },
   "outputs": [
    {
     "name": "stdout",
     "output_type": "stream",
     "text": [
      "27\n"
     ]
    }
   ],
   "source": [
    "# Compare prices across zipcode\n",
    "print(price_region_type['zipcode'].drop_duplicates().count())\n",
    "\n",
    "# Get exact average monthly prices by neighborhood\n",
    "avg_price_zipcode = price_region_type[price_region_type['available'] == 't'].groupby(['year-month', 'zipcode'])['price_x'].mean().sort_values(ascending = False).reset_index().sort_values(by = ['year-month', 'price_x'])"
   ]
  },
  {
   "cell_type": "code",
   "execution_count": 48,
   "metadata": {},
   "outputs": [],
   "source": [
    "# Convert zipcode into numeric becasue scatter plots requires numeric inputs\n",
    "avg_price_zipcode['zipcode'] = avg_price_zipcode['zipcode'].astype(int)"
   ]
  },
  {
   "cell_type": "code",
   "execution_count": 49,
   "metadata": {},
   "outputs": [],
   "source": [
    "# Define a function to plot the average daily prices by zipcode in a specific month, with month being an integer\n",
    "def plotmonth_zipcode(month):\n",
    "    data = avg_price_zipcode[avg_price_zipcode['year-month'] == month].sort_values('price_x', ascending = False).reset_index(drop = True)\n",
    "    x = data['zipcode']\n",
    "    y = data['price_x']\n",
    "    label = data['zipcode']\n",
    "    area = data.price_x\n",
    "\n",
    "    fig = plt.subplots(figsize = (14, 7))\n",
    "    plt.scatter(x, y, s = area, linewidths = 1, edgecolors = 'k')\n",
    "    plt.xlabel('Zipcode')\n",
    "    plt.ylabel('Daily Price')\n",
    "\n",
    "    # Label each point with the neighborhood name\n",
    "    for i, txt in enumerate(label):\n",
    "        plt.annotate(txt, (x[i]-2, y[i]+2), verticalalignment = 'bottom', size = 8)"
   ]
  },
  {
   "cell_type": "code",
   "execution_count": 50,
   "metadata": {},
   "outputs": [
    {
     "data": {
      "application/vnd.jupyter.widget-view+json": {
       "model_id": "37c1556148c74b97939efbbd75fcf348",
       "version_major": 2,
       "version_minor": 0
      },
      "text/plain": [
       "interactive(children=(Dropdown(description='month', options=('2016-01', '2016-02', '2016-03', '2016-04', '2016…"
      ]
     },
     "metadata": {},
     "output_type": "display_data"
    }
   ],
   "source": [
    "# Create an interactive visualization of the prices over a list a months, with months being integers\n",
    "interact(plotmonth_zipcode, month = pd.date_range('2016-01', '2017-01', freq = 'MS').strftime('%Y-%m'));"
   ]
  },
  {
   "cell_type": "code",
   "execution_count": 51,
   "metadata": {
    "scrolled": false
   },
   "outputs": [
    {
     "data": {
      "text/html": [
       "<div>\n",
       "<style scoped>\n",
       "    .dataframe tbody tr th:only-of-type {\n",
       "        vertical-align: middle;\n",
       "    }\n",
       "\n",
       "    .dataframe tbody tr th {\n",
       "        vertical-align: top;\n",
       "    }\n",
       "\n",
       "    .dataframe thead th {\n",
       "        text-align: right;\n",
       "    }\n",
       "</style>\n",
       "<table border=\"1\" class=\"dataframe\">\n",
       "  <thead>\n",
       "    <tr style=\"text-align: right;\">\n",
       "      <th>year-month</th>\n",
       "      <th>2016-01</th>\n",
       "      <th>2016-02</th>\n",
       "      <th>2016-03</th>\n",
       "      <th>2016-04</th>\n",
       "      <th>2016-05</th>\n",
       "      <th>2016-06</th>\n",
       "      <th>2016-07</th>\n",
       "      <th>2016-08</th>\n",
       "      <th>2016-09</th>\n",
       "      <th>2016-10</th>\n",
       "      <th>2016-11</th>\n",
       "      <th>2016-12</th>\n",
       "      <th>2017-01</th>\n",
       "    </tr>\n",
       "    <tr>\n",
       "      <th>zipcode</th>\n",
       "      <th></th>\n",
       "      <th></th>\n",
       "      <th></th>\n",
       "      <th></th>\n",
       "      <th></th>\n",
       "      <th></th>\n",
       "      <th></th>\n",
       "      <th></th>\n",
       "      <th></th>\n",
       "      <th></th>\n",
       "      <th></th>\n",
       "      <th></th>\n",
       "      <th></th>\n",
       "    </tr>\n",
       "  </thead>\n",
       "  <tbody>\n",
       "    <tr>\n",
       "      <th>98134</th>\n",
       "      <td>198.0</td>\n",
       "      <td>199.0</td>\n",
       "      <td>198.0</td>\n",
       "      <td>199.0</td>\n",
       "      <td>210.0</td>\n",
       "      <td>218.0</td>\n",
       "      <td>216.0</td>\n",
       "      <td>216.0</td>\n",
       "      <td>211.0</td>\n",
       "      <td>199.0</td>\n",
       "      <td>198.0</td>\n",
       "      <td>199.0</td>\n",
       "      <td>192.0</td>\n",
       "    </tr>\n",
       "    <tr>\n",
       "      <th>98199</th>\n",
       "      <td>181.0</td>\n",
       "      <td>180.0</td>\n",
       "      <td>183.0</td>\n",
       "      <td>196.0</td>\n",
       "      <td>193.0</td>\n",
       "      <td>190.0</td>\n",
       "      <td>204.0</td>\n",
       "      <td>194.0</td>\n",
       "      <td>195.0</td>\n",
       "      <td>193.0</td>\n",
       "      <td>193.0</td>\n",
       "      <td>195.0</td>\n",
       "      <td>211.0</td>\n",
       "    </tr>\n",
       "    <tr>\n",
       "      <th>98101</th>\n",
       "      <td>162.0</td>\n",
       "      <td>171.0</td>\n",
       "      <td>191.0</td>\n",
       "      <td>193.0</td>\n",
       "      <td>209.0</td>\n",
       "      <td>230.0</td>\n",
       "      <td>247.0</td>\n",
       "      <td>244.0</td>\n",
       "      <td>208.0</td>\n",
       "      <td>191.0</td>\n",
       "      <td>182.0</td>\n",
       "      <td>191.0</td>\n",
       "      <td>193.0</td>\n",
       "    </tr>\n",
       "    <tr>\n",
       "      <th>98109</th>\n",
       "      <td>161.0</td>\n",
       "      <td>158.0</td>\n",
       "      <td>164.0</td>\n",
       "      <td>173.0</td>\n",
       "      <td>183.0</td>\n",
       "      <td>188.0</td>\n",
       "      <td>192.0</td>\n",
       "      <td>188.0</td>\n",
       "      <td>181.0</td>\n",
       "      <td>168.0</td>\n",
       "      <td>162.0</td>\n",
       "      <td>161.0</td>\n",
       "      <td>165.0</td>\n",
       "    </tr>\n",
       "    <tr>\n",
       "      <th>98121</th>\n",
       "      <td>151.0</td>\n",
       "      <td>154.0</td>\n",
       "      <td>176.0</td>\n",
       "      <td>189.0</td>\n",
       "      <td>206.0</td>\n",
       "      <td>256.0</td>\n",
       "      <td>259.0</td>\n",
       "      <td>251.0</td>\n",
       "      <td>200.0</td>\n",
       "      <td>177.0</td>\n",
       "      <td>174.0</td>\n",
       "      <td>183.0</td>\n",
       "      <td>174.0</td>\n",
       "    </tr>\n",
       "    <tr>\n",
       "      <th>98119</th>\n",
       "      <td>150.0</td>\n",
       "      <td>151.0</td>\n",
       "      <td>166.0</td>\n",
       "      <td>169.0</td>\n",
       "      <td>177.0</td>\n",
       "      <td>195.0</td>\n",
       "      <td>204.0</td>\n",
       "      <td>203.0</td>\n",
       "      <td>197.0</td>\n",
       "      <td>189.0</td>\n",
       "      <td>183.0</td>\n",
       "      <td>183.0</td>\n",
       "      <td>181.0</td>\n",
       "    </tr>\n",
       "    <tr>\n",
       "      <th>98136</th>\n",
       "      <td>144.0</td>\n",
       "      <td>143.0</td>\n",
       "      <td>138.0</td>\n",
       "      <td>139.0</td>\n",
       "      <td>137.0</td>\n",
       "      <td>139.0</td>\n",
       "      <td>138.0</td>\n",
       "      <td>139.0</td>\n",
       "      <td>143.0</td>\n",
       "      <td>140.0</td>\n",
       "      <td>138.0</td>\n",
       "      <td>141.0</td>\n",
       "      <td>144.0</td>\n",
       "    </tr>\n",
       "    <tr>\n",
       "      <th>98104</th>\n",
       "      <td>140.0</td>\n",
       "      <td>141.0</td>\n",
       "      <td>146.0</td>\n",
       "      <td>157.0</td>\n",
       "      <td>163.0</td>\n",
       "      <td>157.0</td>\n",
       "      <td>161.0</td>\n",
       "      <td>161.0</td>\n",
       "      <td>157.0</td>\n",
       "      <td>142.0</td>\n",
       "      <td>142.0</td>\n",
       "      <td>142.0</td>\n",
       "      <td>143.0</td>\n",
       "    </tr>\n",
       "    <tr>\n",
       "      <th>98116</th>\n",
       "      <td>139.0</td>\n",
       "      <td>135.0</td>\n",
       "      <td>140.0</td>\n",
       "      <td>148.0</td>\n",
       "      <td>151.0</td>\n",
       "      <td>159.0</td>\n",
       "      <td>171.0</td>\n",
       "      <td>169.0</td>\n",
       "      <td>161.0</td>\n",
       "      <td>152.0</td>\n",
       "      <td>152.0</td>\n",
       "      <td>154.0</td>\n",
       "      <td>151.0</td>\n",
       "    </tr>\n",
       "    <tr>\n",
       "      <th>98126</th>\n",
       "      <td>129.0</td>\n",
       "      <td>124.0</td>\n",
       "      <td>122.0</td>\n",
       "      <td>128.0</td>\n",
       "      <td>133.0</td>\n",
       "      <td>141.0</td>\n",
       "      <td>142.0</td>\n",
       "      <td>138.0</td>\n",
       "      <td>135.0</td>\n",
       "      <td>129.0</td>\n",
       "      <td>129.0</td>\n",
       "      <td>128.0</td>\n",
       "      <td>127.0</td>\n",
       "    </tr>\n",
       "    <tr>\n",
       "      <th>98102</th>\n",
       "      <td>124.0</td>\n",
       "      <td>127.0</td>\n",
       "      <td>131.0</td>\n",
       "      <td>135.0</td>\n",
       "      <td>135.0</td>\n",
       "      <td>141.0</td>\n",
       "      <td>142.0</td>\n",
       "      <td>141.0</td>\n",
       "      <td>135.0</td>\n",
       "      <td>130.0</td>\n",
       "      <td>130.0</td>\n",
       "      <td>131.0</td>\n",
       "      <td>128.0</td>\n",
       "    </tr>\n",
       "    <tr>\n",
       "      <th>98122</th>\n",
       "      <td>123.0</td>\n",
       "      <td>126.0</td>\n",
       "      <td>128.0</td>\n",
       "      <td>135.0</td>\n",
       "      <td>140.0</td>\n",
       "      <td>146.0</td>\n",
       "      <td>150.0</td>\n",
       "      <td>150.0</td>\n",
       "      <td>148.0</td>\n",
       "      <td>142.0</td>\n",
       "      <td>141.0</td>\n",
       "      <td>143.0</td>\n",
       "      <td>144.0</td>\n",
       "    </tr>\n",
       "    <tr>\n",
       "      <th>98112</th>\n",
       "      <td>116.0</td>\n",
       "      <td>119.0</td>\n",
       "      <td>123.0</td>\n",
       "      <td>128.0</td>\n",
       "      <td>129.0</td>\n",
       "      <td>134.0</td>\n",
       "      <td>139.0</td>\n",
       "      <td>137.0</td>\n",
       "      <td>133.0</td>\n",
       "      <td>130.0</td>\n",
       "      <td>130.0</td>\n",
       "      <td>131.0</td>\n",
       "      <td>129.0</td>\n",
       "    </tr>\n",
       "    <tr>\n",
       "      <th>98107</th>\n",
       "      <td>112.0</td>\n",
       "      <td>116.0</td>\n",
       "      <td>119.0</td>\n",
       "      <td>127.0</td>\n",
       "      <td>129.0</td>\n",
       "      <td>143.0</td>\n",
       "      <td>146.0</td>\n",
       "      <td>147.0</td>\n",
       "      <td>138.0</td>\n",
       "      <td>133.0</td>\n",
       "      <td>132.0</td>\n",
       "      <td>134.0</td>\n",
       "      <td>134.0</td>\n",
       "    </tr>\n",
       "    <tr>\n",
       "      <th>98103</th>\n",
       "      <td>107.0</td>\n",
       "      <td>115.0</td>\n",
       "      <td>116.0</td>\n",
       "      <td>125.0</td>\n",
       "      <td>132.0</td>\n",
       "      <td>138.0</td>\n",
       "      <td>145.0</td>\n",
       "      <td>145.0</td>\n",
       "      <td>139.0</td>\n",
       "      <td>135.0</td>\n",
       "      <td>135.0</td>\n",
       "      <td>135.0</td>\n",
       "      <td>136.0</td>\n",
       "    </tr>\n",
       "    <tr>\n",
       "      <th>98105</th>\n",
       "      <td>106.0</td>\n",
       "      <td>109.0</td>\n",
       "      <td>110.0</td>\n",
       "      <td>116.0</td>\n",
       "      <td>114.0</td>\n",
       "      <td>114.0</td>\n",
       "      <td>117.0</td>\n",
       "      <td>119.0</td>\n",
       "      <td>118.0</td>\n",
       "      <td>117.0</td>\n",
       "      <td>117.0</td>\n",
       "      <td>118.0</td>\n",
       "      <td>119.0</td>\n",
       "    </tr>\n",
       "    <tr>\n",
       "      <th>98117</th>\n",
       "      <td>105.0</td>\n",
       "      <td>103.0</td>\n",
       "      <td>105.0</td>\n",
       "      <td>110.0</td>\n",
       "      <td>112.0</td>\n",
       "      <td>118.0</td>\n",
       "      <td>124.0</td>\n",
       "      <td>123.0</td>\n",
       "      <td>117.0</td>\n",
       "      <td>114.0</td>\n",
       "      <td>114.0</td>\n",
       "      <td>117.0</td>\n",
       "      <td>118.0</td>\n",
       "    </tr>\n",
       "    <tr>\n",
       "      <th>98144</th>\n",
       "      <td>104.0</td>\n",
       "      <td>104.0</td>\n",
       "      <td>103.0</td>\n",
       "      <td>111.0</td>\n",
       "      <td>115.0</td>\n",
       "      <td>119.0</td>\n",
       "      <td>123.0</td>\n",
       "      <td>119.0</td>\n",
       "      <td>116.0</td>\n",
       "      <td>114.0</td>\n",
       "      <td>114.0</td>\n",
       "      <td>114.0</td>\n",
       "      <td>112.0</td>\n",
       "    </tr>\n",
       "    <tr>\n",
       "      <th>98115</th>\n",
       "      <td>102.0</td>\n",
       "      <td>108.0</td>\n",
       "      <td>108.0</td>\n",
       "      <td>113.0</td>\n",
       "      <td>114.0</td>\n",
       "      <td>118.0</td>\n",
       "      <td>127.0</td>\n",
       "      <td>128.0</td>\n",
       "      <td>127.0</td>\n",
       "      <td>123.0</td>\n",
       "      <td>123.0</td>\n",
       "      <td>122.0</td>\n",
       "      <td>121.0</td>\n",
       "    </tr>\n",
       "    <tr>\n",
       "      <th>98118</th>\n",
       "      <td>90.0</td>\n",
       "      <td>91.0</td>\n",
       "      <td>94.0</td>\n",
       "      <td>101.0</td>\n",
       "      <td>104.0</td>\n",
       "      <td>109.0</td>\n",
       "      <td>112.0</td>\n",
       "      <td>111.0</td>\n",
       "      <td>108.0</td>\n",
       "      <td>104.0</td>\n",
       "      <td>102.0</td>\n",
       "      <td>101.0</td>\n",
       "      <td>99.0</td>\n",
       "    </tr>\n",
       "    <tr>\n",
       "      <th>98178</th>\n",
       "      <td>88.0</td>\n",
       "      <td>96.0</td>\n",
       "      <td>95.0</td>\n",
       "      <td>105.0</td>\n",
       "      <td>106.0</td>\n",
       "      <td>112.0</td>\n",
       "      <td>102.0</td>\n",
       "      <td>106.0</td>\n",
       "      <td>96.0</td>\n",
       "      <td>95.0</td>\n",
       "      <td>94.0</td>\n",
       "      <td>95.0</td>\n",
       "      <td>98.0</td>\n",
       "    </tr>\n",
       "    <tr>\n",
       "      <th>98125</th>\n",
       "      <td>87.0</td>\n",
       "      <td>89.0</td>\n",
       "      <td>87.0</td>\n",
       "      <td>87.0</td>\n",
       "      <td>89.0</td>\n",
       "      <td>93.0</td>\n",
       "      <td>95.0</td>\n",
       "      <td>95.0</td>\n",
       "      <td>93.0</td>\n",
       "      <td>88.0</td>\n",
       "      <td>87.0</td>\n",
       "      <td>84.0</td>\n",
       "      <td>85.0</td>\n",
       "    </tr>\n",
       "    <tr>\n",
       "      <th>98177</th>\n",
       "      <td>84.0</td>\n",
       "      <td>85.0</td>\n",
       "      <td>93.0</td>\n",
       "      <td>113.0</td>\n",
       "      <td>113.0</td>\n",
       "      <td>113.0</td>\n",
       "      <td>87.0</td>\n",
       "      <td>90.0</td>\n",
       "      <td>90.0</td>\n",
       "      <td>90.0</td>\n",
       "      <td>88.0</td>\n",
       "      <td>93.0</td>\n",
       "      <td>95.0</td>\n",
       "    </tr>\n",
       "    <tr>\n",
       "      <th>98108</th>\n",
       "      <td>81.0</td>\n",
       "      <td>81.0</td>\n",
       "      <td>79.0</td>\n",
       "      <td>80.0</td>\n",
       "      <td>84.0</td>\n",
       "      <td>86.0</td>\n",
       "      <td>87.0</td>\n",
       "      <td>89.0</td>\n",
       "      <td>88.0</td>\n",
       "      <td>87.0</td>\n",
       "      <td>85.0</td>\n",
       "      <td>85.0</td>\n",
       "      <td>86.0</td>\n",
       "    </tr>\n",
       "    <tr>\n",
       "      <th>98146</th>\n",
       "      <td>80.0</td>\n",
       "      <td>106.0</td>\n",
       "      <td>112.0</td>\n",
       "      <td>117.0</td>\n",
       "      <td>100.0</td>\n",
       "      <td>101.0</td>\n",
       "      <td>108.0</td>\n",
       "      <td>107.0</td>\n",
       "      <td>108.0</td>\n",
       "      <td>108.0</td>\n",
       "      <td>107.0</td>\n",
       "      <td>108.0</td>\n",
       "      <td>103.0</td>\n",
       "    </tr>\n",
       "    <tr>\n",
       "      <th>98133</th>\n",
       "      <td>78.0</td>\n",
       "      <td>86.0</td>\n",
       "      <td>84.0</td>\n",
       "      <td>88.0</td>\n",
       "      <td>93.0</td>\n",
       "      <td>94.0</td>\n",
       "      <td>96.0</td>\n",
       "      <td>96.0</td>\n",
       "      <td>94.0</td>\n",
       "      <td>89.0</td>\n",
       "      <td>89.0</td>\n",
       "      <td>89.0</td>\n",
       "      <td>87.0</td>\n",
       "    </tr>\n",
       "    <tr>\n",
       "      <th>98106</th>\n",
       "      <td>74.0</td>\n",
       "      <td>79.0</td>\n",
       "      <td>86.0</td>\n",
       "      <td>88.0</td>\n",
       "      <td>89.0</td>\n",
       "      <td>91.0</td>\n",
       "      <td>93.0</td>\n",
       "      <td>95.0</td>\n",
       "      <td>96.0</td>\n",
       "      <td>95.0</td>\n",
       "      <td>93.0</td>\n",
       "      <td>93.0</td>\n",
       "      <td>93.0</td>\n",
       "    </tr>\n",
       "  </tbody>\n",
       "</table>\n",
       "</div>"
      ],
      "text/plain": [
       "year-month  2016-01  2016-02  2016-03  2016-04  2016-05  2016-06  2016-07  \\\n",
       "zipcode                                                                     \n",
       "98134         198.0    199.0    198.0    199.0    210.0    218.0    216.0   \n",
       "98199         181.0    180.0    183.0    196.0    193.0    190.0    204.0   \n",
       "98101         162.0    171.0    191.0    193.0    209.0    230.0    247.0   \n",
       "98109         161.0    158.0    164.0    173.0    183.0    188.0    192.0   \n",
       "98121         151.0    154.0    176.0    189.0    206.0    256.0    259.0   \n",
       "98119         150.0    151.0    166.0    169.0    177.0    195.0    204.0   \n",
       "98136         144.0    143.0    138.0    139.0    137.0    139.0    138.0   \n",
       "98104         140.0    141.0    146.0    157.0    163.0    157.0    161.0   \n",
       "98116         139.0    135.0    140.0    148.0    151.0    159.0    171.0   \n",
       "98126         129.0    124.0    122.0    128.0    133.0    141.0    142.0   \n",
       "98102         124.0    127.0    131.0    135.0    135.0    141.0    142.0   \n",
       "98122         123.0    126.0    128.0    135.0    140.0    146.0    150.0   \n",
       "98112         116.0    119.0    123.0    128.0    129.0    134.0    139.0   \n",
       "98107         112.0    116.0    119.0    127.0    129.0    143.0    146.0   \n",
       "98103         107.0    115.0    116.0    125.0    132.0    138.0    145.0   \n",
       "98105         106.0    109.0    110.0    116.0    114.0    114.0    117.0   \n",
       "98117         105.0    103.0    105.0    110.0    112.0    118.0    124.0   \n",
       "98144         104.0    104.0    103.0    111.0    115.0    119.0    123.0   \n",
       "98115         102.0    108.0    108.0    113.0    114.0    118.0    127.0   \n",
       "98118          90.0     91.0     94.0    101.0    104.0    109.0    112.0   \n",
       "98178          88.0     96.0     95.0    105.0    106.0    112.0    102.0   \n",
       "98125          87.0     89.0     87.0     87.0     89.0     93.0     95.0   \n",
       "98177          84.0     85.0     93.0    113.0    113.0    113.0     87.0   \n",
       "98108          81.0     81.0     79.0     80.0     84.0     86.0     87.0   \n",
       "98146          80.0    106.0    112.0    117.0    100.0    101.0    108.0   \n",
       "98133          78.0     86.0     84.0     88.0     93.0     94.0     96.0   \n",
       "98106          74.0     79.0     86.0     88.0     89.0     91.0     93.0   \n",
       "\n",
       "year-month  2016-08  2016-09  2016-10  2016-11  2016-12  2017-01  \n",
       "zipcode                                                           \n",
       "98134         216.0    211.0    199.0    198.0    199.0    192.0  \n",
       "98199         194.0    195.0    193.0    193.0    195.0    211.0  \n",
       "98101         244.0    208.0    191.0    182.0    191.0    193.0  \n",
       "98109         188.0    181.0    168.0    162.0    161.0    165.0  \n",
       "98121         251.0    200.0    177.0    174.0    183.0    174.0  \n",
       "98119         203.0    197.0    189.0    183.0    183.0    181.0  \n",
       "98136         139.0    143.0    140.0    138.0    141.0    144.0  \n",
       "98104         161.0    157.0    142.0    142.0    142.0    143.0  \n",
       "98116         169.0    161.0    152.0    152.0    154.0    151.0  \n",
       "98126         138.0    135.0    129.0    129.0    128.0    127.0  \n",
       "98102         141.0    135.0    130.0    130.0    131.0    128.0  \n",
       "98122         150.0    148.0    142.0    141.0    143.0    144.0  \n",
       "98112         137.0    133.0    130.0    130.0    131.0    129.0  \n",
       "98107         147.0    138.0    133.0    132.0    134.0    134.0  \n",
       "98103         145.0    139.0    135.0    135.0    135.0    136.0  \n",
       "98105         119.0    118.0    117.0    117.0    118.0    119.0  \n",
       "98117         123.0    117.0    114.0    114.0    117.0    118.0  \n",
       "98144         119.0    116.0    114.0    114.0    114.0    112.0  \n",
       "98115         128.0    127.0    123.0    123.0    122.0    121.0  \n",
       "98118         111.0    108.0    104.0    102.0    101.0     99.0  \n",
       "98178         106.0     96.0     95.0     94.0     95.0     98.0  \n",
       "98125          95.0     93.0     88.0     87.0     84.0     85.0  \n",
       "98177          90.0     90.0     90.0     88.0     93.0     95.0  \n",
       "98108          89.0     88.0     87.0     85.0     85.0     86.0  \n",
       "98146         107.0    108.0    108.0    107.0    108.0    103.0  \n",
       "98133          96.0     94.0     89.0     89.0     89.0     87.0  \n",
       "98106          95.0     96.0     95.0     93.0     93.0     93.0  "
      ]
     },
     "execution_count": 51,
     "metadata": {},
     "output_type": "execute_result"
    }
   ],
   "source": [
    "# Reshape the average monthly price data by zipcode into wide shape\n",
    "avg_price_zipcode_wide = pd.pivot_table(avg_price_zipcode, values = 'price_x', index = 'zipcode', columns = ['year-month']).round(0)\n",
    "avg_price_zipcode_wide.sort_values(by = '2016-01', ascending = False)"
   ]
  },
  {
   "cell_type": "markdown",
   "metadata": {},
   "source": [
    "98134, 98199, and 98101 are the most expensive zipcodes in Seattle throughout year 2016. Daily room prices in these areas are more than \\\\$180. Home prices in zipcode 98121 increased dramatically from April 2016, and stayed as the most expensive zipcode from June to August. On the other hand, 98106, 98108, and 98133 were the cheapest zipcodes in 2016 overall in Seattle, with an average daily price of about \\\\$80. "
   ]
  },
  {
   "cell_type": "code",
   "execution_count": null,
   "metadata": {},
   "outputs": [],
   "source": []
  },
  {
   "cell_type": "code",
   "execution_count": 52,
   "metadata": {},
   "outputs": [],
   "source": [
    "# 4. How long are the houses listed on Airbnb a year and how has that changed over time?"
   ]
  },
  {
   "cell_type": "code",
   "execution_count": 53,
   "metadata": {
    "scrolled": false
   },
   "outputs": [
    {
     "data": {
      "text/plain": [
       "t    0.67061\n",
       "f    0.32939\n",
       "Name: available, dtype: float64"
      ]
     },
     "execution_count": 53,
     "metadata": {},
     "output_type": "execute_result"
    }
   ],
   "source": [
    "price_region_type['available'].value_counts(normalize = True)"
   ]
  },
  {
   "cell_type": "code",
   "execution_count": 54,
   "metadata": {},
   "outputs": [],
   "source": [
    "availability = price_region_type.groupby(['year-month', 'neighbourhood_group_cleansed'])['available'].value_counts(normalize = True).reset_index(level = [0,1])\n",
    "availability.index.rename('untaken', inplace = True)\n",
    "availability.reset_index(inplace = True)\n",
    "availability = availability[availability['untaken'] == 't']"
   ]
  },
  {
   "cell_type": "code",
   "execution_count": 55,
   "metadata": {},
   "outputs": [],
   "source": [
    "# Create a pivot table for heatmap\n",
    "untaken_ratio = availability.pivot(index = 'neighbourhood_group_cleansed', columns = 'year-month', values = 'available')\n",
    "untaken_ratio.index.rename('neighbourhood', inplace = True)"
   ]
  },
  {
   "cell_type": "code",
   "execution_count": 56,
   "metadata": {
    "scrolled": false
   },
   "outputs": [
    {
     "data": {
      "image/png": "[encoded data removed]",
      "text/plain": [
       "<Figure size 720x504 with 2 Axes>"
      ]
     },
     "metadata": {
      "needs_background": "light"
     },
     "output_type": "display_data"
    }
   ],
   "source": [
    "# Visualize the percetage of months Airbnb homes were avaialbe for rental by neighborhood and month\n",
    "fig = plt.subplots(figsize = (10, 7))\n",
    "sns.heatmap(untaken_ratio, cmap = 'RdBu_r');\n",
    "plt.xlabel('Year-Month');\n",
    "plt.ylabel('Neighbourhood');\n",
    "plt.title('Average Monthly Availability Ratio by Neighbourhood and Month');\n",
    "plt.savefig('Available_ratio_by_neighbourhood_month_heatmap.png')"
   ]
  },
  {
   "cell_type": "code",
   "execution_count": 57,
   "metadata": {
    "scrolled": true
   },
   "outputs": [
    {
     "data": {
      "text/plain": [
       "count    13.000000\n",
       "mean      0.849969\n",
       "std       0.044621\n",
       "min       0.806452\n",
       "25%       0.818182\n",
       "50%       0.821212\n",
       "75%       0.896552\n",
       "max       0.909091\n",
       "Name: Interbay, dtype: float64"
      ]
     },
     "execution_count": 57,
     "metadata": {},
     "output_type": "execute_result"
    }
   ],
   "source": [
    "untaken_ratio.loc['Interbay'].describe()"
   ]
  },
  {
   "cell_type": "markdown",
   "metadata": {},
   "source": [
    "Overall, Aibnb homes in Seattle were avaialbe for rental 67% of the time in year 2016. \n",
    "\n",
    "By region, Interbay, Lake City, Magnolia neighbourhoods had the highest availability ratios throughout year 2016. Homes in Interbay were available for rental for 25.5 days a month on average, particularly at the beginning and ending three months of the year. \n",
    "\n",
    "On the other hand, Cascade, Capitol Hill, and Queen Anne were available for rental for the fewest days monthly. Homes in Cascade neighbourhood were only available for 17.7 days a month, particularly unavailable in January, July, and August 2016.  "
   ]
  },
  {
   "cell_type": "code",
   "execution_count": null,
   "metadata": {},
   "outputs": [],
   "source": []
  },
  {
   "cell_type": "code",
   "execution_count": 58,
   "metadata": {},
   "outputs": [
    {
     "data": {
      "text/plain": [
       "House              0.45\n",
       "Apartment          0.45\n",
       "Townhouse          0.03\n",
       "Condominium        0.02\n",
       "Loft               0.01\n",
       "Bed & Breakfast    0.01\n",
       "Other              0.01\n",
       "Cabin              0.01\n",
       "Camper/RV          0.00\n",
       "Bungalow           0.00\n",
       "Boat               0.00\n",
       "Tent               0.00\n",
       "Treehouse          0.00\n",
       "Dorm               0.00\n",
       "Chalet             0.00\n",
       "Yurt               0.00\n",
       "Name: property_type, dtype: float64"
      ]
     },
     "execution_count": 58,
     "metadata": {},
     "output_type": "execute_result"
    }
   ],
   "source": [
    "# 5. What types of homes are listed on Airbnb? Hotel, motel, single family homes, apartments or other types?\n",
    "listings['property_type'].value_counts(normalize = True).round(2)"
   ]
  },
  {
   "cell_type": "code",
   "execution_count": 59,
   "metadata": {},
   "outputs": [
    {
     "data": {
      "text/plain": [
       "0.005501702908042965"
      ]
     },
     "execution_count": 59,
     "metadata": {},
     "output_type": "execute_result"
    }
   ],
   "source": [
    "21/listings['property_type'].value_counts().sum()"
   ]
  },
  {
   "cell_type": "markdown",
   "metadata": {},
   "source": [
    "90% of the Airbnb homes in Seattle in 2016 were houses and apartments, with each accounting for 45% of all the homes. Although not common, a few (0.5%) homes were yurt, chalet, dorm, treehouse, tent and boat. "
   ]
  },
  {
   "cell_type": "code",
   "execution_count": null,
   "metadata": {},
   "outputs": [],
   "source": []
  }
 ],
 "metadata": {
  "kernelspec": {
   "display_name": "Python 3",
   "language": "python",
   "name": "python3"
  },
  "language_info": {
   "codemirror_mode": {
    "name": "ipython",
    "version": 3
   },
   "file_extension": ".py",
   "mimetype": "text/x-python",
   "name": "python",
   "nbconvert_exporter": "python",
   "pygments_lexer": "ipython3",
   "version": "3.7.0"
  }
 },
 "nbformat": 4,
 "nbformat_minor": 4
}
